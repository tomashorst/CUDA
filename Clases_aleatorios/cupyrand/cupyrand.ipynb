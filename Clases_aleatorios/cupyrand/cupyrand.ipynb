{
 "metadata": {
  "language_info": {
   "codemirror_mode": {
    "name": "ipython",
    "version": 3
   },
   "file_extension": ".py",
   "mimetype": "text/x-python",
   "name": "python",
   "nbconvert_exporter": "python",
   "pygments_lexer": "ipython3",
   "version": "3.7.6"
  },
  "orig_nbformat": 2,
  "kernelspec": {
   "name": "python376jvsc74a57bd04c8e4788f5582ce5acf083fb1555320213223e74abeb3d4f4bcf85047a5cedd6",
   "display_name": "Python 3.7.6 64-bit ('base': conda)"
  }
 },
 "nbformat": 4,
 "nbformat_minor": 2,
 "cells": [
  {
   "cell_type": "code",
   "execution_count": 1,
   "metadata": {},
   "outputs": [
    {
     "output_type": "stream",
     "name": "stderr",
     "text": [
      "/home/koltona/anaconda3/lib/python3.7/site-packages/cupyx/time.py:115: FutureWarning: cupyx.time.repeat is experimental. The interface can change in the future.\n",
      "  _util.experimental('cupyx.time.repeat')\n",
      "3.1406704\n",
      "3.1419836\n",
      "3.1415724\n",
      "3.142102\n",
      "3.1410784\n",
      "3.1406504\n",
      "3.1420988\n",
      "3.1417416\n",
      "3.1420436\n",
      "3.141876\n",
      "3.1426964\n",
      "3.1414432\n",
      "3.1410772\n",
      "3.1415952\n",
      "3.14162\n",
      "3.1416728\n",
      "3.141676\n",
      "3.1418564\n",
      "3.1418432\n",
      "3.1421308\n",
      "piCPU               :    CPU:456906.984 us   +/-6691.377 (min:449796.408 / max:474801.107) us     GPU-0:457011.829 us   +/-6635.128 (min:449827.667 / max:474829.102) us\n",
      "3.1408124\n",
      "3.141098\n",
      "3.140922\n",
      "3.1421308\n",
      "3.1416392\n",
      "3.1428684\n",
      "3.1420052\n",
      "3.1409744\n",
      "3.1409148\n",
      "3.1409564\n",
      "3.1419736\n",
      "3.1425428\n",
      "3.1419716\n",
      "3.1408532\n",
      "3.14166\n",
      "3.1411712\n",
      "3.1418824\n",
      "3.1421816\n",
      "3.1412496\n",
      "3.1417536\n",
      "piGPU               :    CPU: 5670.124 us   +/-945.338 (min: 5137.905 / max: 7628.489) us     GPU-0: 6055.872 us   +/-938.588 (min: 5555.200 / max: 8052.736) us\n"
     ]
    }
   ],
   "source": [
    "import cupy as cp\n",
    "import numpy as np\n",
    "from cupyx.time import repeat\n",
    "\n",
    "def piCPU(n):\n",
    "    ## en CPU\n",
    "    data = np.random.uniform(-0.5,0.5,(n,2))\n",
    "\n",
    "    inside = len(\n",
    "        np.argwhere(\n",
    "            np.linalg.norm(data, axis=1) < 0.5\n",
    "        )\n",
    "    )\n",
    "    print(inside/n*4)\n",
    "\n",
    "def piGPU(n):\n",
    "    ## en GPU\n",
    "    dataGPU = cp.random.uniform(-0.5,0.5,(n,2))\n",
    "\n",
    "    inside = len(\n",
    "        cp.argwhere(\n",
    "            cp.linalg.norm(dataGPU, axis=1) < 0.5\n",
    "        )\n",
    "    )\n",
    "    print(inside/n*4)\n",
    "\n",
    "n=10000000\n",
    "print(repeat(piCPU, (n,), n_repeat=10)) \n",
    "print(repeat(piGPU, (n,), n_repeat=10)) \n",
    "\n"
   ]
  },
  {
   "cell_type": "code",
   "execution_count": null,
   "metadata": {},
   "outputs": [],
   "source": []
  }
 ]
}